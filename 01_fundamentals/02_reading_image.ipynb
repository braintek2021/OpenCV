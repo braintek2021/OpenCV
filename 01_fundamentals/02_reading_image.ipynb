{
 "cells": [
  {
   "cell_type": "code",
   "execution_count": 1,
   "id": "26c88847",
   "metadata": {},
   "outputs": [],
   "source": [
    "import numpy as np\n",
    "import cv2\n",
    "import matplotlib.image as matimg\n",
    "from PIL import Image\n",
    "\n",
    "import matplotlib.pyplot as plt"
   ]
  },
  {
   "cell_type": "code",
   "execution_count": 2,
   "id": "2f811cf6",
   "metadata": {},
   "outputs": [
    {
     "ename": "FileNotFoundError",
     "evalue": "[Errno 2] No such file or directory: './data/flying_bird.jpg'",
     "output_type": "error",
     "traceback": [
      "\u001b[1;31m---------------------------------------------------------------------------\u001b[0m",
      "\u001b[1;31mFileNotFoundError\u001b[0m                         Traceback (most recent call last)",
      "\u001b[1;32m~\\AppData\\Local\\Temp/ipykernel_18760/1557225368.py\u001b[0m in \u001b[0;36m<module>\u001b[1;34m\u001b[0m\n\u001b[0;32m      2\u001b[0m \u001b[0mimg_cv\u001b[0m \u001b[1;33m=\u001b[0m \u001b[0mcv2\u001b[0m\u001b[1;33m.\u001b[0m\u001b[0mimread\u001b[0m\u001b[1;33m(\u001b[0m\u001b[1;34m'./data/flying_bird.jpg'\u001b[0m\u001b[1;33m)\u001b[0m\u001b[1;33m\u001b[0m\u001b[1;33m\u001b[0m\u001b[0m\n\u001b[0;32m      3\u001b[0m \u001b[1;31m# Matplotlib - RGB - numpy array\u001b[0m\u001b[1;33m\u001b[0m\u001b[1;33m\u001b[0m\u001b[1;33m\u001b[0m\u001b[0m\n\u001b[1;32m----> 4\u001b[1;33m \u001b[0mimg_mat\u001b[0m \u001b[1;33m=\u001b[0m \u001b[0mmatimg\u001b[0m\u001b[1;33m.\u001b[0m\u001b[0mimread\u001b[0m\u001b[1;33m(\u001b[0m\u001b[1;34m'./data/flying_bird.jpg'\u001b[0m\u001b[1;33m)\u001b[0m\u001b[1;33m\u001b[0m\u001b[1;33m\u001b[0m\u001b[0m\n\u001b[0m\u001b[0;32m      5\u001b[0m \u001b[1;31m# PIL - RGB - object\u001b[0m\u001b[1;33m\u001b[0m\u001b[1;33m\u001b[0m\u001b[1;33m\u001b[0m\u001b[0m\n\u001b[0;32m      6\u001b[0m \u001b[0mimg_pil\u001b[0m \u001b[1;33m=\u001b[0m \u001b[0mImage\u001b[0m\u001b[1;33m.\u001b[0m\u001b[0mopen\u001b[0m\u001b[1;33m(\u001b[0m\u001b[1;34m'./data/flying_bird.jpg'\u001b[0m\u001b[1;33m)\u001b[0m\u001b[1;33m\u001b[0m\u001b[1;33m\u001b[0m\u001b[0m\n",
      "\u001b[1;32m~\\AppData\\Roaming\\Python\\Python38\\site-packages\\matplotlib\\image.py\u001b[0m in \u001b[0;36mimread\u001b[1;34m(fname, format)\u001b[0m\n\u001b[0;32m   1558\u001b[0m                     \u001b[0mresponse\u001b[0m \u001b[1;33m=\u001b[0m \u001b[0mio\u001b[0m\u001b[1;33m.\u001b[0m\u001b[0mBytesIO\u001b[0m\u001b[1;33m(\u001b[0m\u001b[0mresponse\u001b[0m\u001b[1;33m.\u001b[0m\u001b[0mread\u001b[0m\u001b[1;33m(\u001b[0m\u001b[1;33m)\u001b[0m\u001b[1;33m)\u001b[0m\u001b[1;33m\u001b[0m\u001b[1;33m\u001b[0m\u001b[0m\n\u001b[0;32m   1559\u001b[0m                 \u001b[1;32mreturn\u001b[0m \u001b[0mimread\u001b[0m\u001b[1;33m(\u001b[0m\u001b[0mresponse\u001b[0m\u001b[1;33m,\u001b[0m \u001b[0mformat\u001b[0m\u001b[1;33m=\u001b[0m\u001b[0mext\u001b[0m\u001b[1;33m)\u001b[0m\u001b[1;33m\u001b[0m\u001b[1;33m\u001b[0m\u001b[0m\n\u001b[1;32m-> 1560\u001b[1;33m     \u001b[1;32mwith\u001b[0m \u001b[0mimg_open\u001b[0m\u001b[1;33m(\u001b[0m\u001b[0mfname\u001b[0m\u001b[1;33m)\u001b[0m \u001b[1;32mas\u001b[0m \u001b[0mimage\u001b[0m\u001b[1;33m:\u001b[0m\u001b[1;33m\u001b[0m\u001b[1;33m\u001b[0m\u001b[0m\n\u001b[0m\u001b[0;32m   1561\u001b[0m         return (_pil_png_to_float_array(image)\n\u001b[0;32m   1562\u001b[0m                 \u001b[1;32mif\u001b[0m \u001b[0misinstance\u001b[0m\u001b[1;33m(\u001b[0m\u001b[0mimage\u001b[0m\u001b[1;33m,\u001b[0m \u001b[0mPIL\u001b[0m\u001b[1;33m.\u001b[0m\u001b[0mPngImagePlugin\u001b[0m\u001b[1;33m.\u001b[0m\u001b[0mPngImageFile\u001b[0m\u001b[1;33m)\u001b[0m \u001b[1;32melse\u001b[0m\u001b[1;33m\u001b[0m\u001b[1;33m\u001b[0m\u001b[0m\n",
      "\u001b[1;32m~\\anaconda3\\envs\\OpenCV\\lib\\site-packages\\PIL\\Image.py\u001b[0m in \u001b[0;36mopen\u001b[1;34m(fp, mode, formats)\u001b[0m\n\u001b[0;32m   3225\u001b[0m \u001b[1;33m\u001b[0m\u001b[0m\n\u001b[0;32m   3226\u001b[0m     \u001b[1;32mif\u001b[0m \u001b[0mfilename\u001b[0m\u001b[1;33m:\u001b[0m\u001b[1;33m\u001b[0m\u001b[1;33m\u001b[0m\u001b[0m\n\u001b[1;32m-> 3227\u001b[1;33m         \u001b[0mfp\u001b[0m \u001b[1;33m=\u001b[0m \u001b[0mbuiltins\u001b[0m\u001b[1;33m.\u001b[0m\u001b[0mopen\u001b[0m\u001b[1;33m(\u001b[0m\u001b[0mfilename\u001b[0m\u001b[1;33m,\u001b[0m \u001b[1;34m\"rb\"\u001b[0m\u001b[1;33m)\u001b[0m\u001b[1;33m\u001b[0m\u001b[1;33m\u001b[0m\u001b[0m\n\u001b[0m\u001b[0;32m   3228\u001b[0m         \u001b[0mexclusive_fp\u001b[0m \u001b[1;33m=\u001b[0m \u001b[1;32mTrue\u001b[0m\u001b[1;33m\u001b[0m\u001b[1;33m\u001b[0m\u001b[0m\n\u001b[0;32m   3229\u001b[0m \u001b[1;33m\u001b[0m\u001b[0m\n",
      "\u001b[1;31mFileNotFoundError\u001b[0m: [Errno 2] No such file or directory: './data/flying_bird.jpg'"
     ]
    }
   ],
   "source": [
    "# OpenCV - BGR - numpy array\n",
    "img_cv = cv2.imread('./data/flying_bird.jpg')\n",
    "# Matplotlib - RGB - numpy array\n",
    "img_mat = matimg.imread('./data/flying_bird.jpg')\n",
    "# PIL - RGB - object\n",
    "img_pil = Image.open('./data/flying_bird.jpg')"
   ]
  },
  {
   "cell_type": "code",
   "execution_count": null,
   "id": "bc8d5401",
   "metadata": {},
   "outputs": [],
   "source": [
    "# OpenCV - BGR\n",
    "print(img_cv)"
   ]
  },
  {
   "cell_type": "code",
   "execution_count": null,
   "id": "926ef6b8",
   "metadata": {},
   "outputs": [],
   "source": [
    "# matplotlib -RGB\n",
    "print(img_mat)"
   ]
  },
  {
   "cell_type": "code",
   "execution_count": null,
   "id": "30dc6ebc",
   "metadata": {},
   "outputs": [],
   "source": [
    "img_pil"
   ]
  },
  {
   "cell_type": "code",
   "execution_count": null,
   "id": "0892abb8",
   "metadata": {},
   "outputs": [],
   "source": [
    "# converting PIL object to array\n",
    "img_pil_arr = np.array(img_pil)"
   ]
  },
  {
   "cell_type": "code",
   "execution_count": null,
   "id": "9c0c8eb3",
   "metadata": {},
   "outputs": [],
   "source": [
    "img_pil_arr"
   ]
  },
  {
   "cell_type": "markdown",
   "id": "f5e00107",
   "metadata": {},
   "source": [
    "### Display Image"
   ]
  },
  {
   "cell_type": "code",
   "execution_count": null,
   "id": "71803e5d",
   "metadata": {},
   "outputs": [],
   "source": [
    "# display image using opencv\n",
    "cv2.imshow('OpenCV BGR',img_cv)\n",
    "cv2.imshow('Matplotlib RGB',img_mat)\n",
    "cv2.imshow('Pillo RGB',img_pil_arr)\n",
    "cv2.waitKey(0)\n",
    "cv2.destroyAllWindows()"
   ]
  },
  {
   "cell_type": "code",
   "execution_count": null,
   "id": "a30cac39",
   "metadata": {},
   "outputs": [],
   "source": [
    "# display image using matplotlib\n",
    "plt.figure(figsize=(15,8))\n",
    "plt.subplot(1,3,1)\n",
    "plt.imshow(img_cv)\n",
    "plt.axis('off')\n",
    "plt.title('OpenCV BGR')\n",
    "\n",
    "plt.subplot(1,3,2)\n",
    "plt.imshow(img_mat)\n",
    "plt.axis('off')\n",
    "plt.title('Matplotlib RGB')\n",
    "\n",
    "plt.subplot(1,3,3)\n",
    "plt.imshow(img_pil_arr)\n",
    "plt.axis('off')\n",
    "plt.title('Pillow RGB')\n",
    "\n",
    "plt.show()"
   ]
  },
  {
   "cell_type": "markdown",
   "id": "306a2d5c",
   "metadata": {},
   "source": [
    "### COLOR Space\n",
    "\n",
    "- Color Conversion\n",
    "- Gray Scale"
   ]
  },
  {
   "cell_type": "code",
   "execution_count": null,
   "id": "0c30ed79",
   "metadata": {},
   "outputs": [],
   "source": [
    "img_cv.shape"
   ]
  },
  {
   "cell_type": "code",
   "execution_count": null,
   "id": "3c8cae75",
   "metadata": {},
   "outputs": [],
   "source": [
    "# numpy slicing\n",
    "# BGR\n",
    "b = img_cv[:,:,0]\n",
    "g = img_cv[:,:,1]\n",
    "r = img_cv[:,:,2]"
   ]
  },
  {
   "cell_type": "code",
   "execution_count": null,
   "id": "22d0dbfb",
   "metadata": {},
   "outputs": [],
   "source": [
    "cv2.imshow('blue channel',b)\n",
    "cv2.imshow('green channel',g)\n",
    "cv2.imshow('red channel',r)\n",
    "\n",
    "cv2.imshow('BGR',img_cv)\n",
    "\n",
    "cv2.waitKey(0)\n",
    "cv2.destroyAllWindows()"
   ]
  },
  {
   "cell_type": "code",
   "execution_count": null,
   "id": "8ef1656a",
   "metadata": {},
   "outputs": [],
   "source": [
    "# opencv split channels\n",
    "b,g,r  = cv2.split(img_cv)"
   ]
  },
  {
   "cell_type": "code",
   "execution_count": null,
   "id": "351d0df1",
   "metadata": {},
   "outputs": [],
   "source": [
    "cv2.imshow('blue channel',b)\n",
    "cv2.imshow('green channel',g)\n",
    "cv2.imshow('red channel',r)\n",
    "\n",
    "cv2.imshow('BGR',img_cv)\n",
    "\n",
    "cv2.waitKey(0)\n",
    "cv2.destroyAllWindows()"
   ]
  },
  {
   "cell_type": "code",
   "execution_count": null,
   "id": "6f2cb1a1",
   "metadata": {},
   "outputs": [],
   "source": [
    "b.shape, g.shape, r.shape, img_cv.shape"
   ]
  },
  {
   "cell_type": "code",
   "execution_count": null,
   "id": "accb6f2d",
   "metadata": {},
   "outputs": [],
   "source": [
    "# converting color\n",
    "# bgr to rgb\n",
    "img_cv_rgb = cv2.cvtColor(img_cv,cv2.COLOR_BGR2RGB)"
   ]
  },
  {
   "cell_type": "code",
   "execution_count": null,
   "id": "a913e00c",
   "metadata": {},
   "outputs": [],
   "source": [
    "plt.imshow(img_cv_rgb)\n",
    "plt.axis('off')\n",
    "plt.show()"
   ]
  },
  {
   "cell_type": "markdown",
   "id": "36727cc5",
   "metadata": {},
   "source": [
    "### GrayScale"
   ]
  },
  {
   "cell_type": "code",
   "execution_count": null,
   "id": "6d2f8567",
   "metadata": {},
   "outputs": [],
   "source": [
    "img_gray = cv2.cvtColor(img_cv,cv2.COLOR_BGR2GRAY)"
   ]
  },
  {
   "cell_type": "code",
   "execution_count": null,
   "id": "42be824a",
   "metadata": {},
   "outputs": [],
   "source": [
    "cv2.imshow('grayscale',img_gray)\n",
    "cv2.waitKey()\n",
    "cv2.destroyAllWindows()"
   ]
  },
  {
   "cell_type": "code",
   "execution_count": null,
   "id": "42fe03b9",
   "metadata": {},
   "outputs": [],
   "source": []
  },
  {
   "cell_type": "code",
   "execution_count": null,
   "id": "28c3ca07",
   "metadata": {},
   "outputs": [],
   "source": []
  },
  {
   "cell_type": "code",
   "execution_count": null,
   "id": "26e24dbe",
   "metadata": {},
   "outputs": [],
   "source": []
  },
  {
   "cell_type": "code",
   "execution_count": null,
   "id": "5a47947f",
   "metadata": {},
   "outputs": [],
   "source": []
  },
  {
   "cell_type": "code",
   "execution_count": null,
   "id": "17fe45d4",
   "metadata": {},
   "outputs": [],
   "source": []
  },
  {
   "cell_type": "code",
   "execution_count": null,
   "id": "ce6d9eba",
   "metadata": {},
   "outputs": [],
   "source": []
  },
  {
   "cell_type": "code",
   "execution_count": null,
   "id": "b218796b",
   "metadata": {},
   "outputs": [],
   "source": []
  },
  {
   "cell_type": "code",
   "execution_count": null,
   "id": "d0e404e2",
   "metadata": {},
   "outputs": [],
   "source": []
  },
  {
   "cell_type": "code",
   "execution_count": null,
   "id": "cf616082",
   "metadata": {},
   "outputs": [],
   "source": []
  },
  {
   "cell_type": "code",
   "execution_count": null,
   "id": "f76bd9c3",
   "metadata": {},
   "outputs": [],
   "source": []
  }
 ],
 "metadata": {
  "kernelspec": {
   "display_name": "Python 3 (ipykernel)",
   "language": "python",
   "name": "python3"
  },
  "language_info": {
   "codemirror_mode": {
    "name": "ipython",
    "version": 3
   },
   "file_extension": ".py",
   "mimetype": "text/x-python",
   "name": "python",
   "nbconvert_exporter": "python",
   "pygments_lexer": "ipython3",
   "version": "3.8.12"
  }
 },
 "nbformat": 4,
 "nbformat_minor": 5
}
